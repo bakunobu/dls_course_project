{
 "cells": [
  {
   "cell_type": "code",
   "execution_count": 2,
   "id": "8201482f",
   "metadata": {},
   "outputs": [],
   "source": [
    "import argparse\n",
    "import os"
   ]
  },
  {
   "cell_type": "markdown",
   "id": "47830aa0",
   "metadata": {},
   "source": [
    "За основу взята <a href='https://github.com/affinelayer/pix2pix-tensorflow/blob/master/tools/process.py'>реазиация на TF</a> из предложенной авторами курса статьи."
   ]
  },
  {
   "cell_type": "code",
   "execution_count": null,
   "id": "32ec350a",
   "metadata": {},
   "outputs": [],
   "source": [
    "# на случай, если понадобится парсер командной строки\n",
    "# parser = argparse.ArgumentParser()\n",
    "# parser.add_argument(\"--input_dir\", required=True, help=\"path to folder containing images\")\n",
    "# parser.add_argument(\"--output_dir\", required=True, help=\"output path\")\n",
    "# parser.add_argument(\"--operation\", required=True, choices=[\"grayscale\", \"resize\", \"blank\", \"combine\", \"edges\"])\n",
    "# parser.add_argument(\"--workers\", type=int, default=1, help=\"number of workers\")\n",
    "# resize\n",
    "# parser.add_argument(\"--pad\", action=\"store_true\", help=\"pad instead of crop for resize operation\")\n",
    "# parser.add_argument(\"--size\", type=int, default=256, help=\"size to use for resize operation\")\n",
    "# combine\n",
    "# parser.add_argument(\"--b_dir\", type=str, help=\"path to folder containing B images for combine operation\")\n",
    "# a = parser.parse_args()"
   ]
  },
  {
   "cell_type": "code",
   "execution_count": null,
   "id": "569b4d67",
   "metadata": {},
   "outputs": [],
   "source": []
  },
  {
   "cell_type": "code",
   "execution_count": null,
   "id": "6fc2c172",
   "metadata": {},
   "outputs": [],
   "source": [
    "def resize(src):\n",
    "    height, width, _ = src.shape\n",
    "    dst = src\n",
    "    if height != width:\n",
    "        if a.pad:\n",
    "            size = max(height, width)\n",
    "            # pad to correct ratio\n",
    "            oh = (size - height) // 2\n",
    "            ow = (size - width) // 2\n",
    "            dst = im.pad(image=dst, offset_height=oh, offset_width=ow, target_height=size, target_width=size)\n",
    "        else:\n",
    "            # crop to correct ratio\n",
    "            size = min(height, width)\n",
    "            oh = (height - size) // 2\n",
    "            ow = (width - size) // 2\n",
    "            dst = im.crop(image=dst, offset_height=oh, offset_width=ow, target_height=size, target_width=size)\n",
    "\n",
    "    assert(dst.shape[0] == dst.shape[1])\n",
    "\n",
    "    size, _, _ = dst.shape\n",
    "    if size > a.size:\n",
    "        dst = im.downscale(images=dst, size=[a.size, a.size])\n",
    "    elif size < a.size:\n",
    "        dst = im.upscale(images=dst, size=[a.size, a.size])\n",
    "    return dst"
   ]
  },
  {
   "cell_type": "code",
   "execution_count": null,
   "id": "983885a4",
   "metadata": {},
   "outputs": [],
   "source": []
  }
 ],
 "metadata": {
  "kernelspec": {
   "display_name": "cw_env",
   "language": "python",
   "name": "cw_env"
  },
  "language_info": {
   "codemirror_mode": {
    "name": "ipython",
    "version": 3
   },
   "file_extension": ".py",
   "mimetype": "text/x-python",
   "name": "python",
   "nbconvert_exporter": "python",
   "pygments_lexer": "ipython3",
   "version": "3.8.10"
  }
 },
 "nbformat": 4,
 "nbformat_minor": 5
}
